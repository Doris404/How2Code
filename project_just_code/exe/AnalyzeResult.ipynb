{
 "cells": [
  {
   "cell_type": "code",
   "execution_count": 1,
   "metadata": {
    "ExecuteTime": {
     "end_time": "2023-12-24T04:28:28.199135Z",
     "start_time": "2023-12-24T04:28:27.630688Z"
    }
   },
   "outputs": [],
   "source": [
    "# Analyze result\n",
    "import os\n",
    "import json\n",
    "import datetime\n",
    "from datetime import timezone, timedelta\n",
    "\n",
    "import pandas as pd"
   ]
  },
  {
   "cell_type": "code",
   "execution_count": 2,
   "metadata": {
    "ExecuteTime": {
     "end_time": "2023-12-24T04:28:30.011197Z",
     "start_time": "2023-12-24T04:28:30.004267Z"
    }
   },
   "outputs": [],
   "source": [
    "# Load result.json\n",
    "eval_path = '.'\n",
    "eval_file = 'eval_config.json'\n",
    "eval_config = json.load(open('{}/{}'.format(eval_path, eval_file)))\n",
    "\n",
    "result_file = eval_config['result'][-1]\n",
    "result_config = json.load(open('{}'.format(result_file)))"
   ]
  },
  {
   "cell_type": "code",
   "execution_count": 3,
   "metadata": {
    "ExecuteTime": {
     "end_time": "2023-12-24T04:28:36.184955Z",
     "start_time": "2023-12-24T04:28:36.150351Z"
    }
   },
   "outputs": [
    {
     "data": {
      "text/plain": [
       "{'data1': {'model1': 1, 'model2': 2, 'model3': 3},\n",
       " 'data2': {'model1': 3, 'model2': 2, 'model3': 1}}"
      ]
     },
     "execution_count": 3,
     "metadata": {},
     "output_type": "execute_result"
    }
   ],
   "source": [
    "result_config"
   ]
  },
  {
   "cell_type": "code",
   "execution_count": 4,
   "metadata": {
    "ExecuteTime": {
     "end_time": "2023-12-24T04:29:24.463068Z",
     "start_time": "2023-12-24T04:29:24.458883Z"
    }
   },
   "outputs": [],
   "source": [
    "def analyze(result_config):\n",
    "    ''' Your code '''\n",
    "    analyze_config = result_config\n",
    "    ''' Your code end'''\n",
    "    return analyze_config"
   ]
  },
  {
   "cell_type": "code",
   "execution_count": 5,
   "metadata": {
    "ExecuteTime": {
     "end_time": "2023-12-24T04:29:28.273924Z",
     "start_time": "2023-12-24T04:29:28.270902Z"
    }
   },
   "outputs": [],
   "source": [
    "# Get analyze.json\n",
    "analyze_dic = analyze(result_config)"
   ]
  },
  {
   "cell_type": "code",
   "execution_count": 6,
   "metadata": {
    "ExecuteTime": {
     "end_time": "2023-12-24T04:29:34.059764Z",
     "start_time": "2023-12-24T04:29:34.054026Z"
    }
   },
   "outputs": [
    {
     "data": {
      "text/plain": [
       "{'data1': {'model1': 1, 'model2': 2, 'model3': 3},\n",
       " 'data2': {'model1': 3, 'model2': 2, 'model3': 1}}"
      ]
     },
     "execution_count": 6,
     "metadata": {},
     "output_type": "execute_result"
    }
   ],
   "source": [
    "analyze_dic"
   ]
  },
  {
   "cell_type": "code",
   "execution_count": 7,
   "metadata": {
    "ExecuteTime": {
     "end_time": "2023-12-24T04:29:39.298773Z",
     "start_time": "2023-12-24T04:29:39.283001Z"
    }
   },
   "outputs": [
    {
     "name": "stdout",
     "output_type": "stream",
     "text": [
      "Success see 20231224/20231224-122939_analyze.json\n"
     ]
    }
   ],
   "source": [
    "# Save analyze\n",
    "class NpEncoder(json.JSONEncoder):\n",
    "    def default(self, obj):\n",
    "        if isinstance(obj, np.integer):\n",
    "            return int(obj)\n",
    "        if isinstance(obj, np.floating):\n",
    "            return float(obj)\n",
    "        if isinstance(obj, np.ndarray):\n",
    "            return obj.tolist()\n",
    "        return json.JSONEncoder.default(self, obj)\n",
    "timestamp = datetime.datetime.now().astimezone(timezone(timedelta(hours=8))).strftime(\"%Y%m%d\")\n",
    "id_ = datetime.datetime.now().astimezone(timezone(timedelta(hours=8))).strftime(\"%Y%m%d-%H%M%S\")\n",
    "analyze_path = '{}'.format(timestamp)\n",
    "analyze_file = '{}_analyze.json'.format(id_)\n",
    "try:\n",
    "    os.mkdir(timestamp)\n",
    "except:\n",
    "    pass\n",
    "js_str = json.dumps(analyze_dic, indent=4, ensure_ascii=False, cls=NpEncoder)\n",
    "js_file = open(\"{}/{}\".format(analyze_path, analyze_file), 'w')\n",
    "js_file.write(js_str)\n",
    "js_file.close()\n",
    "print(\"Success see {}/{}\".format(analyze_path, analyze_file))"
   ]
  },
  {
   "cell_type": "code",
   "execution_count": 8,
   "metadata": {
    "ExecuteTime": {
     "end_time": "2023-12-24T04:29:40.130518Z",
     "start_time": "2023-12-24T04:29:40.120324Z"
    }
   },
   "outputs": [
    {
     "name": "stdout",
     "output_type": "stream",
     "text": [
      "Success see ./eval_config.json\n"
     ]
    }
   ],
   "source": [
    "# Save config\n",
    "eval_path = '.'\n",
    "eval_file = 'eval_config.json'\n",
    "eval_config = json.load(open('{}/{}'.format(eval_path, eval_file)))\n",
    "\n",
    "eval_config['analyze'].append('{}/{}'.format(analyze_path, analyze_file))\n",
    "eval_config['analyze_intro'].append('your analyze_intro')\n",
    "js_str = json.dumps(eval_config, indent=4, ensure_ascii=False, cls=NpEncoder)\n",
    "js_file = open(\"{}/{}\".format(eval_path, eval_file), 'w')\n",
    "js_file.write(js_str)\n",
    "js_file.close()\n",
    "print(\"Success see {}/{}\".format(eval_path, eval_file))"
   ]
  },
  {
   "cell_type": "code",
   "execution_count": null,
   "metadata": {},
   "outputs": [],
   "source": []
  }
 ],
 "metadata": {
  "kernelspec": {
   "display_name": "Python 3 (ipykernel)",
   "language": "python",
   "name": "python3"
  },
  "language_info": {
   "codemirror_mode": {
    "name": "ipython",
    "version": 3
   },
   "file_extension": ".py",
   "mimetype": "text/x-python",
   "name": "python",
   "nbconvert_exporter": "python",
   "pygments_lexer": "ipython3",
   "version": "3.7.1"
  },
  "toc": {
   "base_numbering": 1,
   "nav_menu": {},
   "number_sections": true,
   "sideBar": true,
   "skip_h1_title": false,
   "title_cell": "Table of Contents",
   "title_sidebar": "Contents",
   "toc_cell": false,
   "toc_position": {},
   "toc_section_display": true,
   "toc_window_display": false
  }
 },
 "nbformat": 4,
 "nbformat_minor": 4
}
