{
 "cells": [
  {
   "cell_type": "code",
   "execution_count": 5,
   "metadata": {
    "ExecuteTime": {
     "end_time": "2023-12-24T04:22:54.979902Z",
     "start_time": "2023-12-24T04:22:54.960848Z"
    }
   },
   "outputs": [],
   "source": [
    "# Obtain first-hand experimental results\n",
    "import os\n",
    "import json\n",
    "import datetime\n",
    "from datetime import timezone, timedelta"
   ]
  },
  {
   "cell_type": "code",
   "execution_count": 6,
   "metadata": {
    "ExecuteTime": {
     "end_time": "2023-12-24T04:22:55.368657Z",
     "start_time": "2023-12-24T04:22:55.364024Z"
    }
   },
   "outputs": [],
   "source": [
    "# Get result\n",
    "result_dic = {}\n",
    "result_dic['metric'] = 'value'"
   ]
  },
  {
   "cell_type": "code",
   "execution_count": 7,
   "metadata": {
    "ExecuteTime": {
     "end_time": "2023-12-24T04:22:56.007024Z",
     "start_time": "2023-12-24T04:22:55.986130Z"
    }
   },
   "outputs": [
    {
     "name": "stdout",
     "output_type": "stream",
     "text": [
      "Success see 20231224/20231224-122256_result.json\n"
     ]
    }
   ],
   "source": [
    "# Save result\n",
    "class NpEncoder(json.JSONEncoder):\n",
    "    def default(self, obj):\n",
    "        if isinstance(obj, np.integer):\n",
    "            return int(obj)\n",
    "        if isinstance(obj, np.floating):\n",
    "            return float(obj)\n",
    "        if isinstance(obj, np.ndarray):\n",
    "            return obj.tolist()\n",
    "        return json.JSONEncoder.default(self, obj)\n",
    "timestamp = datetime.datetime.now().astimezone(timezone(timedelta(hours=8))).strftime(\"%Y%m%d\")\n",
    "id_ = datetime.datetime.now().astimezone(timezone(timedelta(hours=8))).strftime(\"%Y%m%d-%H%M%S\")\n",
    "result_path = '{}'.format(timestamp)\n",
    "result_file = '{}_result.json'.format(id_)\n",
    "try:\n",
    "    os.mkdir(timestamp)\n",
    "except:\n",
    "    pass\n",
    "js_str = json.dumps(result_dic, indent=4, ensure_ascii=False, cls=NpEncoder)\n",
    "js_file = open(\"{}/{}\".format(result_path, result_file), 'w')\n",
    "js_file.write(js_str)\n",
    "js_file.close()\n",
    "print(\"Success see {}/{}\".format(result_path, result_file))"
   ]
  },
  {
   "cell_type": "code",
   "execution_count": 8,
   "metadata": {
    "ExecuteTime": {
     "end_time": "2023-12-24T04:22:56.501287Z",
     "start_time": "2023-12-24T04:22:56.491205Z"
    }
   },
   "outputs": [
    {
     "name": "stdout",
     "output_type": "stream",
     "text": [
      "Success see ./eval_config.json\n"
     ]
    }
   ],
   "source": [
    "# Save config\n",
    "eval_path = '.'\n",
    "eval_file = 'eval_config.json'\n",
    "eval_config = json.load(open('{}/{}'.format(eval_path, eval_file)))\n",
    "\n",
    "eval_config['result'].append('{}/{}'.format(result_path, result_file))\n",
    "eval_config['result_intro'].append('your result_intro')\n",
    "js_str = json.dumps(eval_config, indent=4, ensure_ascii=False, cls=NpEncoder)\n",
    "js_file = open(\"{}/{}\".format(eval_path, eval_file), 'w')\n",
    "js_file.write(js_str)\n",
    "js_file.close()\n",
    "print(\"Success see {}/{}\".format(eval_path, eval_file))"
   ]
  },
  {
   "cell_type": "code",
   "execution_count": null,
   "metadata": {},
   "outputs": [],
   "source": []
  }
 ],
 "metadata": {
  "kernelspec": {
   "display_name": "Python 3 (ipykernel)",
   "language": "python",
   "name": "python3"
  },
  "language_info": {
   "codemirror_mode": {
    "name": "ipython",
    "version": 3
   },
   "file_extension": ".py",
   "mimetype": "text/x-python",
   "name": "python",
   "nbconvert_exporter": "python",
   "pygments_lexer": "ipython3",
   "version": "3.7.1"
  },
  "toc": {
   "base_numbering": 1,
   "nav_menu": {
    "height": "11.1111px",
    "width": "160px"
   },
   "number_sections": true,
   "sideBar": true,
   "skip_h1_title": false,
   "title_cell": "Table of Contents",
   "title_sidebar": "Contents",
   "toc_cell": false,
   "toc_position": {},
   "toc_section_display": true,
   "toc_window_display": false
  }
 },
 "nbformat": 4,
 "nbformat_minor": 4
}
