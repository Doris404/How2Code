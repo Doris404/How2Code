{
 "cells": [
  {
   "cell_type": "markdown",
   "id": "6be46300",
   "metadata": {},
   "source": [
    "# Prepare dataset for OpenDataGen\n",
    "\n",
    "You can prepare new dataset for OpenDataGen in following 2 steps:\n",
    "\n",
    "1. Generate config.json which contain useful information for dataset\n",
    "2. Split the csv into train.csv and test.csv and put them in the folder"
   ]
  },
  {
   "cell_type": "markdown",
   "id": "33640452",
   "metadata": {},
   "source": [
    "## Config.json Generation"
   ]
  },
  {
   "cell_type": "code",
   "execution_count": 1,
   "id": "3905bfcc",
   "metadata": {},
   "outputs": [],
   "source": [
    "from sklearn.model_selection import train_test_split\n",
    "import pandas as pd\n",
    "import json\n",
    "import os"
   ]
  },
  {
   "cell_type": "code",
   "execution_count": 2,
   "id": "92c5a913",
   "metadata": {},
   "outputs": [],
   "source": [
    "# config\n",
    "data_file_list = [\n",
    "    'company_bankruptcy_prediction.csv',\n",
    "    'dna_40670.csv',\n",
    "    'parkinsons_updrs.csv',\n",
    "    'credit_card_customers.csv',\n",
    "    'PieChart3_1453.csv',\n",
    "    'darwin.csv',\n",
    "    'jannis_41168.csv'\n",
    "]\n",
    "\n",
    "data_name_list = [\n",
    "    'company_bankruptcy_prediction',\n",
    "    'dna',\n",
    "    'parkinsons_updrs',\n",
    "    'credit_card_customers',\n",
    "    'piechart3',\n",
    "    'darwin',\n",
    "    'jannis'\n",
    "]\n",
    "\n",
    "data_file_name_dic = {\n",
    "    'company_bankruptcy_prediction.csv': 'company_bankruptcy_prediction',\n",
    "    'dna_40670.csv': 'dna',\n",
    "    'parkinsons_updrs.csv': 'parkinsons_updrs',\n",
    "    'credit_card_customers.csv': 'credit_card_customers',\n",
    "    'PieChart3_1453.csv': 'piechart3',\n",
    "    'darwin.csv': 'darwin',\n",
    "    'jannis_41168.csv': 'jannis'\n",
    "}\n",
    "\n",
    "dataset_path = './datasets'"
   ]
  },
  {
   "cell_type": "code",
   "execution_count": 3,
   "id": "acbf3363",
   "metadata": {},
   "outputs": [],
   "source": [
    "def get_dataset_config(data_file, data_file_name_dic, dataset_path):\n",
    "    data = pd.read_csv(data_file)\n",
    "    # train test split\n",
    "    data_train, data_test, _, _ = train_test_split(data, data, test_size=0.33, random_state=42)\n",
    "\n",
    "    # get name\n",
    "    name = data_file_name_dic[data_file]\n",
    "#     print('name:', name)\n",
    "    # get 4 num: column_num train_row_num test_row_num total_row_num\n",
    "    column_num = len(list(data.columns))\n",
    "    train_row_num = len(data_train)\n",
    "    test_row_num = len(data_test)\n",
    "    total_row_num = len(data)\n",
    "#     print('column_num:', column_num)\n",
    "#     print('train_row_num:', train_row_num)\n",
    "#     print('test_row_num:', test_row_num)\n",
    "#     print('total_row_num:', total_row_num)\n",
    "\n",
    "    os.mkdir(\"./{}\".format(name))\n",
    "\n",
    "    train_file = \"{}/{}/train.csv\".format(dataset_path, name)\n",
    "    test_file = \"{}/{}/test.csv\".format(dataset_path, name)\n",
    "#     print('train_file:', train_file)\n",
    "#     print('test_file:', test_file)\n",
    "\n",
    "    train_file_save = \"{}/train.csv\".format(name)\n",
    "    test_file_save = \"{}/test.csv\".format(name)\n",
    "#     print('train_file_save:', train_file_save)\n",
    "#     print('test_file_save:', test_file_save)\n",
    "\n",
    "    data_train.to_csv(train_file_save, index=0, header=0)\n",
    "    data_test.to_csv(test_file_save, index=0, header=0)\n",
    "\n",
    "    tmp_config = {\n",
    "        \"name\": name,\n",
    "        \"column_num\": column_num,\n",
    "        \"train_row_num\": train_row_num,\n",
    "        \"test_row_num\": test_row_num,\n",
    "        \"total_row_num\": total_row_num,\n",
    "        \"train_file\": train_file,\n",
    "        \"test_file\": test_file\n",
    "    }\n",
    "\n",
    "    # get columns\n",
    "    tmp_config_columns = []\n",
    "    for column in data.columns:\n",
    "        column_name = column\n",
    "        column_type = str(data[column].dtype)\n",
    "        column_value = []\n",
    "        if column_type == 'object':\n",
    "            column_value = list(data[column].unique())\n",
    "            column_type = 'string'\n",
    "        elif 'int' in column_type:\n",
    "            column_type = 'int'\n",
    "        elif 'float' in column_type:\n",
    "            column_type = 'float'\n",
    "        else:\n",
    "            raise TypeError('column_type is not in [string, int, float]')\n",
    "#         print('column_name:', column_name)\n",
    "#         print('column_type:', column_type)\n",
    "#         print('column_value:', column_value)\n",
    "        tmp_config_columns.append({\n",
    "            'column_name': column_name,\n",
    "            'column_type': column_type,\n",
    "            'column_value': column_value\n",
    "        })\n",
    "\n",
    "    tmp_config['columns'] = tmp_config_columns\n",
    "    return tmp_config\n",
    "\n",
    "def get_datasets_config(data_file_list, data_file_name_dic, dataset_path):\n",
    "    datasets = []\n",
    "    for data_file in data_file_list:\n",
    "        tmp_config = get_dataset_config(data_file, data_file_name_dic, dataset_path)\n",
    "        datasets.append(tmp_config)\n",
    "    return datasets"
   ]
  },
  {
   "cell_type": "code",
   "execution_count": 9,
   "id": "7ce8b4c9",
   "metadata": {},
   "outputs": [],
   "source": [
    "datasets = get_datasets_config(data_file_list, data_file_name_dic, dataset_path)"
   ]
  },
  {
   "cell_type": "code",
   "execution_count": 16,
   "id": "6f639e74",
   "metadata": {},
   "outputs": [
    {
     "data": {
      "text/plain": [
       "162089"
      ]
     },
     "execution_count": 16,
     "metadata": {},
     "output_type": "execute_result"
    }
   ],
   "source": [
    "config = json.load(open(\"//home/ruc/xiaotong/OpenDataGen/log/20231201/open-data-gen/src/config_ori.json\"))\n",
    "config1202 = config\n",
    "config1202['datasets'] = datasets\n",
    "\n",
    "config_file1202 = '/home/ruc/xiaotong/OpenDataGen/log/20231201/open-data-gen/src/config.json'\n",
    "js_str = json.dumps(config1202, indent=4)\n",
    "js_file = open(config_file1202, 'w')\n",
    "js_file.write(js_str)"
   ]
  },
  {
   "cell_type": "markdown",
   "id": "5d86eaaf",
   "metadata": {},
   "source": [
    "## Move csv to the path"
   ]
  },
  {
   "cell_type": "code",
   "execution_count": 26,
   "id": "904cf1b6",
   "metadata": {},
   "outputs": [
    {
     "name": "stdout",
     "output_type": "stream",
     "text": [
      "mv ./company_bankruptcy_prediction /home/ruc/xiaotong/OpenDataGen/log/20231201/open-data-gen/datasets/company_bankruptcy_prediction\n",
      "mv ./dna /home/ruc/xiaotong/OpenDataGen/log/20231201/open-data-gen/datasets/dna\n",
      "mv ./parkinsons_updrs /home/ruc/xiaotong/OpenDataGen/log/20231201/open-data-gen/datasets/parkinsons_updrs\n",
      "mv ./credit_card_customers /home/ruc/xiaotong/OpenDataGen/log/20231201/open-data-gen/datasets/credit_card_customers\n",
      "mv ./piechart3 /home/ruc/xiaotong/OpenDataGen/log/20231201/open-data-gen/datasets/piechart3\n",
      "mv ./darwin /home/ruc/xiaotong/OpenDataGen/log/20231201/open-data-gen/datasets/darwin\n",
      "mv ./jannis /home/ruc/xiaotong/OpenDataGen/log/20231201/open-data-gen/datasets/jannis\n"
     ]
    }
   ],
   "source": [
    "source_path = \".\"\n",
    "target_path = \"/home/ruc/xiaotong/OpenDataGen/log/20231201/open-data-gen/datasets\"\n",
    "\n",
    "for name in data_name_list:\n",
    "    print(\"mv {}/{} {}/{}\".format(source_path, name, target_path, name))"
   ]
  },
  {
   "cell_type": "code",
   "execution_count": 27,
   "id": "1e03635a",
   "metadata": {},
   "outputs": [],
   "source": [
    "# run the code above in cmd\n",
    "# mv ./company_bankruptcy_prediction /home/ruc/xiaotong/OpenDataGen/log/20231201/open-data-gen/datasets/company_bankruptcy_prediction\n",
    "# mv ./dna /home/ruc/xiaotong/OpenDataGen/log/20231201/open-data-gen/datasets/dna\n",
    "# mv ./parkinsons_updrs /home/ruc/xiaotong/OpenDataGen/log/20231201/open-data-gen/datasets/parkinsons_updrs\n",
    "# mv ./credit_card_customers /home/ruc/xiaotong/OpenDataGen/log/20231201/open-data-gen/datasets/credit_card_customers\n",
    "# mv ./piechart3 /home/ruc/xiaotong/OpenDataGen/log/20231201/open-data-gen/datasets/piechart3\n",
    "# mv ./darwin /home/ruc/xiaotong/OpenDataGen/log/20231201/open-data-gen/datasets/darwin\n",
    "# mv ./jannis /home/ruc/xiaotong/OpenDataGen/log/20231201/open-data-gen/datasets/jannis"
   ]
  },
  {
   "cell_type": "code",
   "execution_count": 35,
   "id": "509dd805",
   "metadata": {},
   "outputs": [
    {
     "data": {
      "text/plain": [
       "'/home/ruc/xiaotong/OpenDataGen/log/20231122/open-data-gen/candidate_data_tong/20231202'"
      ]
     },
     "execution_count": 35,
     "metadata": {},
     "output_type": "execute_result"
    }
   ],
   "source": [
    "pwd"
   ]
  },
  {
   "cell_type": "code",
   "execution_count": null,
   "id": "41d884ee",
   "metadata": {},
   "outputs": [],
   "source": []
  }
 ],
 "metadata": {
  "kernelspec": {
   "display_name": "Python 3 (ipykernel)",
   "language": "python",
   "name": "python3"
  },
  "language_info": {
   "codemirror_mode": {
    "name": "ipython",
    "version": 3
   },
   "file_extension": ".py",
   "mimetype": "text/x-python",
   "name": "python",
   "nbconvert_exporter": "python",
   "pygments_lexer": "ipython3",
   "version": "3.11.5"
  }
 },
 "nbformat": 4,
 "nbformat_minor": 5
}
