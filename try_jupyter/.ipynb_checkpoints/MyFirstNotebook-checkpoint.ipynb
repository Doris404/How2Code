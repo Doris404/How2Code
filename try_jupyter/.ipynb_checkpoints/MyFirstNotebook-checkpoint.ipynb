{
 "cells": [
  {
   "cell_type": "code",
   "execution_count": 1,
   "metadata": {
    "ExecuteTime": {
     "end_time": "2023-12-09T13:53:23.023168Z",
     "start_time": "2023-12-09T13:53:23.003813Z"
    },
    "slideshow": {
     "slide_type": "notes"
    }
   },
   "outputs": [
    {
     "name": "stdout",
     "output_type": "stream",
     "text": [
      "Hello World\n"
     ]
    }
   ],
   "source": [
    "print('Hello World')"
   ]
  },
  {
   "cell_type": "markdown",
   "metadata": {},
   "source": [
    "# Section 1"
   ]
  },
  {
   "cell_type": "markdown",
   "metadata": {},
   "source": [
    "Nbextensions插件中的Table of Contents(2)实现了在侧边栏显示目录的功能，这一功能在你写了大量Markdown的单元格时可以让你的编辑更具条理性。"
   ]
  },
  {
   "cell_type": "code",
   "execution_count": 1,
   "metadata": {
    "ExecuteTime": {
     "end_time": "2023-12-09T13:53:23.023168Z",
     "start_time": "2023-12-09T13:53:23.003813Z"
    },
    "slideshow": {
     "slide_type": "notes"
    }
   },
   "outputs": [
    {
     "name": "stdout",
     "output_type": "stream",
     "text": [
      "Hello World\n"
     ]
    }
   ],
   "source": [
    "print('Hello World')"
   ]
  },
  {
   "cell_type": "markdown",
   "metadata": {},
   "source": [
    "# Section 2"
   ]
  },
  {
   "cell_type": "markdown",
   "metadata": {},
   "source": [
    "Nbextensions插件中的Table of Contents(2)实现了在侧边栏显示目录的功能，这一功能在你写了大量Markdown的单元格时可以让你的编辑更具条理性。"
   ]
  },
  {
   "cell_type": "code",
   "execution_count": 1,
   "metadata": {
    "ExecuteTime": {
     "end_time": "2023-12-09T13:53:23.023168Z",
     "start_time": "2023-12-09T13:53:23.003813Z"
    },
    "slideshow": {
     "slide_type": "notes"
    }
   },
   "outputs": [
    {
     "name": "stdout",
     "output_type": "stream",
     "text": [
      "Hello World\n"
     ]
    }
   ],
   "source": [
    "print('Hello World')"
   ]
  },
  {
   "cell_type": "markdown",
   "metadata": {},
   "source": [
    "# Section 2"
   ]
  },
  {
   "cell_type": "markdown",
   "metadata": {},
   "source": [
    "# Section 2"
   ]
  },
  {
   "cell_type": "markdown",
   "metadata": {},
   "source": [
    "# Section 2"
   ]
  },
  {
   "cell_type": "code",
   "execution_count": 2,
   "metadata": {
    "ExecuteTime": {
     "end_time": "2023-12-09T14:34:29.130498Z",
     "start_time": "2023-12-09T14:34:28.953815Z"
    }
   },
   "outputs": [
    {
     "name": "stdout",
     "output_type": "stream",
     "text": [
      "MyFirstNotebook.ipynb\n"
     ]
    }
   ],
   "source": [
    "ls"
   ]
  },
  {
   "cell_type": "code",
   "execution_count": 3,
   "metadata": {
    "ExecuteTime": {
     "end_time": "2023-12-09T14:34:37.481309Z",
     "start_time": "2023-12-09T14:34:37.450654Z"
    }
   },
   "outputs": [
    {
     "data": {
      "text/plain": [
       "'/Users/xiaotong/Desktop/2023Aut/How2Code/try_jupyter'"
      ]
     },
     "execution_count": 3,
     "metadata": {},
     "output_type": "execute_result"
    }
   ],
   "source": [
    "pwd"
   ]
  },
  {
   "cell_type": "code",
   "execution_count": 10,
   "metadata": {
    "ExecuteTime": {
     "end_time": "2023-12-09T15:21:08.663768Z",
     "start_time": "2023-12-09T15:21:08.655448Z"
    }
   },
   "outputs": [
    {
     "name": "stdout",
     "output_type": "stream",
     "text": [
      "! time python train.py --data_name data_1 --model_name model_1 --times 1\n",
      "! time python train.py --data_name data_2 --model_name model_1 --times 1\n",
      "! time python train.py --data_name data_1 --model_name model_2 --times 1\n",
      "! time python train.py --data_name data_2 --model_name model_2 --times 1\n"
     ]
    }
   ],
   "source": [
    "data_list = [\n",
    "    'data_1',\n",
    "    'data_2'\n",
    "]\n",
    "model_list = [\n",
    "    'model_1',\n",
    "    'model_2',\n",
    "]\n",
    "for model_name in model_list:\n",
    "    for data_name in data_list:\n",
    "        print('! time python train.py --data_name {} --model_name {} --times 1'.format(data_name, model_name))"
   ]
  },
  {
   "cell_type": "code",
   "execution_count": 2,
   "metadata": {
    "ExecuteTime": {
     "end_time": "2023-12-09T15:20:35.714387Z",
     "start_time": "2023-12-09T15:20:35.495242Z"
    }
   },
   "outputs": [
    {
     "name": "stdout",
     "output_type": "stream",
     "text": [
      "Acc: 96%\n",
      "python train.py --data_name data_1 --model_name model_1 --times 1  0.03s user 0.01s system 82% cpu 0.049 total\n"
     ]
    }
   ],
   "source": [
    "! time python train.py --data_name data_1 --model_name model_1 --times 1"
   ]
  },
  {
   "cell_type": "code",
   "execution_count": 3,
   "metadata": {
    "ExecuteTime": {
     "end_time": "2023-12-09T15:20:54.558103Z",
     "start_time": "2023-12-09T15:20:54.348360Z"
    }
   },
   "outputs": [
    {
     "name": "stdout",
     "output_type": "stream",
     "text": [
      "Acc: 70%\n",
      "python train.py --data_name data_2 --model_name model_1 --times 1  0.03s user 0.01s system 80% cpu 0.052 total\n"
     ]
    }
   ],
   "source": [
    "! time python train.py --data_name data_2 --model_name model_1 --times 1"
   ]
  },
  {
   "cell_type": "code",
   "execution_count": 4,
   "metadata": {
    "ExecuteTime": {
     "end_time": "2023-12-09T15:21:19.280761Z",
     "start_time": "2023-12-09T15:21:19.074065Z"
    }
   },
   "outputs": [
    {
     "name": "stdout",
     "output_type": "stream",
     "text": [
      "Acc: 98%\n",
      "python train.py --data_name data_1 --model_name model_2 --times 1  0.03s user 0.01s system 82% cpu 0.054 total\n"
     ]
    }
   ],
   "source": [
    "! time python train.py --data_name data_1 --model_name model_2 --times 1"
   ]
  },
  {
   "cell_type": "code",
   "execution_count": 5,
   "metadata": {
    "ExecuteTime": {
     "end_time": "2023-12-09T15:21:28.945829Z",
     "start_time": "2023-12-09T15:21:28.743929Z"
    }
   },
   "outputs": [
    {
     "name": "stdout",
     "output_type": "stream",
     "text": [
      "Acc: 68%\n",
      "python train.py --data_name data_2 --model_name model_2 --times 1  0.03s user 0.01s system 79% cpu 0.054 total\n"
     ]
    }
   ],
   "source": [
    "! time python train.py --data_name data_2 --model_name model_2 --times 1"
   ]
  },
  {
   "cell_type": "code",
   "execution_count": 6,
   "metadata": {
    "ExecuteTime": {
     "end_time": "2023-12-09T15:28:39.063706Z",
     "start_time": "2023-12-09T15:28:38.878118Z"
    }
   },
   "outputs": [
    {
     "name": "stdout",
     "output_type": "stream",
     "text": [
      "  OpenDataGen\u001b[m\n",
      "  TexasHoldem\u001b[m\n",
      "  main\u001b[m\n",
      "  new_branch\u001b[m\n",
      "  project\u001b[m\n",
      "* \u001b[32mtry_jupyter\u001b[m\n"
     ]
    }
   ],
   "source": [
    "! git branch"
   ]
  },
  {
   "cell_type": "code",
   "execution_count": null,
   "metadata": {},
   "outputs": [],
   "source": []
  }
 ],
 "metadata": {
  "kernelspec": {
   "display_name": "Python 3 (ipykernel)",
   "language": "python",
   "name": "python3"
  },
  "language_info": {
   "codemirror_mode": {
    "name": "ipython",
    "version": 3
   },
   "file_extension": ".py",
   "mimetype": "text/x-python",
   "name": "python",
   "nbconvert_exporter": "python",
   "pygments_lexer": "ipython3",
   "version": "3.7.1"
  },
  "toc": {
   "base_numbering": 1,
   "nav_menu": {
    "height": "58px",
    "width": "354px"
   },
   "number_sections": true,
   "sideBar": true,
   "skip_h1_title": false,
   "title_cell": "Table of Contents",
   "title_sidebar": "Contents",
   "toc_cell": false,
   "toc_position": {
    "height": "calc(100% - 180px)",
    "left": "10px",
    "top": "150px",
    "width": "165px"
   },
   "toc_section_display": true,
   "toc_window_display": true
  }
 },
 "nbformat": 4,
 "nbformat_minor": 4
}
